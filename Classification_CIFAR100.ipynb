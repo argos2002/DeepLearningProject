{
  "nbformat": 4,
  "nbformat_minor": 0,
  "metadata": {
    "colab": {
      "provenance": [],
      "gpuType": "T4",
      "authorship_tag": "ABX9TyNdqT3x9Fcz2bQGvQPaIeAt",
      "include_colab_link": true
    },
    "kernelspec": {
      "name": "python3",
      "display_name": "Python 3"
    },
    "language_info": {
      "name": "python"
    },
    "accelerator": "GPU"
  },
  "cells": [
    {
      "cell_type": "markdown",
      "metadata": {
        "id": "view-in-github",
        "colab_type": "text"
      },
      "source": [
        "<a href=\"https://colab.research.google.com/github/argos2002/DeepLearningProject/blob/main/Classification_CIFAR100.ipynb\" target=\"_parent\"><img src=\"https://colab.research.google.com/assets/colab-badge.svg\" alt=\"Open In Colab\"/></a>"
      ]
    },
    {
      "cell_type": "code",
      "execution_count": 17,
      "metadata": {
        "id": "Krf7x6_nlz9S"
      },
      "outputs": [],
      "source": [
        "from tensorflow.keras.datasets import cifar100\n",
        "from tensorflow.keras.models import Sequential\n",
        "from tensorflow.keras.layers import Dense, Flatten, Conv2D, MaxPooling2D, Activation, Dropout\n",
        "from tensorflow.keras.losses import categorical_crossentropy\n",
        "from tensorflow.keras.optimizers import Adam\n",
        "from tensorflow.keras.utils import to_categorical\n",
        "from tensorflow.keras.callbacks import Callback, EarlyStopping\n",
        "from keras.preprocessing.image import ImageDataGenerator\n",
        "import matplotlib.pyplot as plt\n",
        "import numpy as np"
      ]
    },
    {
      "cell_type": "code",
      "source": [
        "(X_train, y_train),(X_test, y_test) = cifar100.load_data()\n",
        "\n",
        "# Normalizing the  data\n",
        "X_train = X_train / 255.0\n",
        "X_test = X_test / 255.0\n",
        "\n",
        "# Number of classes\n",
        "nb_classes = len(np.unique(y_train))\n",
        "\n",
        "# Size of Image\n",
        "img_width, img_height, img_num_channels = 32, 32, 3\n",
        "input_shape = (img_width, img_height, img_num_channels)\n",
        "\n",
        "# Converting class vectors to binary class matrices\n",
        "y_train = to_categorical(y_train, nb_classes)\n",
        "y_test = to_categorical(y_test, nb_classes)"
      ],
      "metadata": {
        "id": "l9fp57QGl9L8"
      },
      "execution_count": 18,
      "outputs": []
    },
    {
      "cell_type": "code",
      "source": [
        "model = Sequential()\n",
        "# 128 and not only 32 filters because there are 100 classes. 32 filters gave bad results.\n",
        "model.add(Conv2D(128, (3, 3), padding='same', input_shape=X_train.shape[1:]))\n",
        "model.add(Activation('relu'))\n",
        "\n",
        "model.add(Conv2D(128, (3, 3)))\n",
        "model.add(Activation('relu'))\n",
        "model.add(MaxPooling2D(pool_size=(2, 2)))\n",
        "\n",
        "model.add(Conv2D(256, (3, 3), padding='same'))\n",
        "model.add(Activation('relu'))\n",
        "\n",
        "model.add(Conv2D(256, (3, 3)))\n",
        "model.add(Activation('relu'))\n",
        "model.add(MaxPooling2D(pool_size=(2, 2)))\n",
        "model.add(Dropout(0.25))\n",
        "\n",
        "model.add(Conv2D(512, (3, 3), padding='same'))\n",
        "model.add(Activation('relu'))\n",
        "\n",
        "model.add(Conv2D(512, (3, 3)))\n",
        "model.add(Activation('relu'))\n",
        "model.add(MaxPooling2D(pool_size=(2, 2)))\n",
        "model.add(Dropout(0.25))\n",
        "\n",
        "model.add(Flatten())\n",
        "model.add(Dense(1024))\n",
        "model.add(Activation('relu'))\n",
        "model.add(Dropout(0.5))\n",
        "model.add(Dense(nb_classes))\n",
        "model.add(Activation('softmax'))\n",
        "\n",
        "model.summary()"
      ],
      "metadata": {
        "colab": {
          "base_uri": "https://localhost:8080/"
        },
        "id": "MGxqRa-hmLZt",
        "outputId": "47a0e506-b488-4def-f492-395210cb71bd"
      },
      "execution_count": 19,
      "outputs": [
        {
          "output_type": "stream",
          "name": "stdout",
          "text": [
            "Model: \"sequential_2\"\n",
            "_________________________________________________________________\n",
            " Layer (type)                Output Shape              Param #   \n",
            "=================================================================\n",
            " conv2d_12 (Conv2D)          (None, 32, 32, 128)       3584      \n",
            "                                                                 \n",
            " activation_16 (Activation)  (None, 32, 32, 128)       0         \n",
            "                                                                 \n",
            " conv2d_13 (Conv2D)          (None, 30, 30, 128)       147584    \n",
            "                                                                 \n",
            " activation_17 (Activation)  (None, 30, 30, 128)       0         \n",
            "                                                                 \n",
            " max_pooling2d_6 (MaxPoolin  (None, 15, 15, 128)       0         \n",
            " g2D)                                                            \n",
            "                                                                 \n",
            " conv2d_14 (Conv2D)          (None, 15, 15, 256)       295168    \n",
            "                                                                 \n",
            " activation_18 (Activation)  (None, 15, 15, 256)       0         \n",
            "                                                                 \n",
            " conv2d_15 (Conv2D)          (None, 13, 13, 256)       590080    \n",
            "                                                                 \n",
            " activation_19 (Activation)  (None, 13, 13, 256)       0         \n",
            "                                                                 \n",
            " max_pooling2d_7 (MaxPoolin  (None, 6, 6, 256)         0         \n",
            " g2D)                                                            \n",
            "                                                                 \n",
            " dropout_6 (Dropout)         (None, 6, 6, 256)         0         \n",
            "                                                                 \n",
            " conv2d_16 (Conv2D)          (None, 6, 6, 512)         1180160   \n",
            "                                                                 \n",
            " activation_20 (Activation)  (None, 6, 6, 512)         0         \n",
            "                                                                 \n",
            " conv2d_17 (Conv2D)          (None, 4, 4, 512)         2359808   \n",
            "                                                                 \n",
            " activation_21 (Activation)  (None, 4, 4, 512)         0         \n",
            "                                                                 \n",
            " max_pooling2d_8 (MaxPoolin  (None, 2, 2, 512)         0         \n",
            " g2D)                                                            \n",
            "                                                                 \n",
            " dropout_7 (Dropout)         (None, 2, 2, 512)         0         \n",
            "                                                                 \n",
            " flatten_2 (Flatten)         (None, 2048)              0         \n",
            "                                                                 \n",
            " dense_4 (Dense)             (None, 1024)              2098176   \n",
            "                                                                 \n",
            " activation_22 (Activation)  (None, 1024)              0         \n",
            "                                                                 \n",
            " dropout_8 (Dropout)         (None, 1024)              0         \n",
            "                                                                 \n",
            " dense_5 (Dense)             (None, 100)               102500    \n",
            "                                                                 \n",
            " activation_23 (Activation)  (None, 100)               0         \n",
            "                                                                 \n",
            "=================================================================\n",
            "Total params: 6777060 (25.85 MB)\n",
            "Trainable params: 6777060 (25.85 MB)\n",
            "Non-trainable params: 0 (0.00 Byte)\n",
            "_________________________________________________________________\n"
          ]
        }
      ]
    },
    {
      "cell_type": "code",
      "source": [
        "from tensorflow.keras.optimizers import legacy\n",
        "model.compile(loss='categorical_crossentropy',optimizer=legacy.Adam(learning_rate=0.0001, decay=1e-6),metrics=['accuracy'])"
      ],
      "metadata": {
        "id": "gSem3cgKmQab"
      },
      "execution_count": 20,
      "outputs": []
    },
    {
      "cell_type": "code",
      "source": [
        "datagen = ImageDataGenerator(\n",
        "featurewise_center=False,\n",
        "samplewise_center=False,\n",
        "featurewise_std_normalization=False,\n",
        "samplewise_std_normalization=False,\n",
        "zca_whitening=False,\n",
        "rotation_range=0,\n",
        "width_shift_range=0.1,\n",
        "height_shift_range=0.1,\n",
        "horizontal_flip=True,\n",
        "vertical_flip=False)\n",
        "datagen.fit(X_train)\n"
      ],
      "metadata": {
        "id": "Uj_kAFjmmS3v"
      },
      "execution_count": 21,
      "outputs": []
    },
    {
      "cell_type": "code",
      "source": [
        "early_stop = EarlyStopping(monitor='val_loss', mode='min', verbose=1, patience=8, restore_best_weights = True)\n",
        "\n",
        "# Fitting data to the model\n",
        "history = model.fit(datagen.flow(X_train, y_train, batch_size=50),\n",
        "steps_per_epoch=X_train.shape[0] // 50,\n",
        "epochs=600,\n",
        "validation_data=(X_test, y_test),\n",
        "verbose=1,\n",
        "callbacks=[early_stop])\n"
      ],
      "metadata": {
        "colab": {
          "base_uri": "https://localhost:8080/"
        },
        "id": "2zHq32HemVrt",
        "outputId": "1669400e-aa58-4ba0-eb0c-70def02272e6"
      },
      "execution_count": 22,
      "outputs": [
        {
          "output_type": "stream",
          "name": "stdout",
          "text": [
            "Epoch 1/600\n",
            "1000/1000 [==============================] - 57s 56ms/step - loss: 4.2857 - accuracy: 0.0404 - val_loss: 3.8518 - val_accuracy: 0.1032\n",
            "Epoch 2/600\n",
            "1000/1000 [==============================] - 46s 46ms/step - loss: 3.7447 - accuracy: 0.1201 - val_loss: 3.3989 - val_accuracy: 0.1825\n",
            "Epoch 3/600\n",
            "1000/1000 [==============================] - 47s 47ms/step - loss: 3.3873 - accuracy: 0.1805 - val_loss: 3.1230 - val_accuracy: 0.2441\n",
            "Epoch 4/600\n",
            "1000/1000 [==============================] - 46s 46ms/step - loss: 3.1240 - accuracy: 0.2302 - val_loss: 2.8803 - val_accuracy: 0.2863\n",
            "Epoch 5/600\n",
            "1000/1000 [==============================] - 47s 47ms/step - loss: 2.9219 - accuracy: 0.2681 - val_loss: 2.6214 - val_accuracy: 0.3373\n",
            "Epoch 6/600\n",
            "1000/1000 [==============================] - 46s 46ms/step - loss: 2.7396 - accuracy: 0.3040 - val_loss: 2.4774 - val_accuracy: 0.3661\n",
            "Epoch 7/600\n",
            "1000/1000 [==============================] - 46s 46ms/step - loss: 2.5798 - accuracy: 0.3354 - val_loss: 2.3346 - val_accuracy: 0.3949\n",
            "Epoch 8/600\n",
            "1000/1000 [==============================] - 46s 46ms/step - loss: 2.4437 - accuracy: 0.3653 - val_loss: 2.1456 - val_accuracy: 0.4372\n",
            "Epoch 9/600\n",
            "1000/1000 [==============================] - 46s 46ms/step - loss: 2.3247 - accuracy: 0.3895 - val_loss: 2.1310 - val_accuracy: 0.4365\n",
            "Epoch 10/600\n",
            "1000/1000 [==============================] - 46s 46ms/step - loss: 2.2186 - accuracy: 0.4126 - val_loss: 2.0004 - val_accuracy: 0.4680\n",
            "Epoch 11/600\n",
            "1000/1000 [==============================] - 45s 45ms/step - loss: 2.1222 - accuracy: 0.4349 - val_loss: 1.9617 - val_accuracy: 0.4722\n",
            "Epoch 12/600\n",
            "1000/1000 [==============================] - 45s 45ms/step - loss: 2.0374 - accuracy: 0.4534 - val_loss: 1.8920 - val_accuracy: 0.4938\n",
            "Epoch 13/600\n",
            "1000/1000 [==============================] - 46s 46ms/step - loss: 1.9618 - accuracy: 0.4714 - val_loss: 1.8944 - val_accuracy: 0.4965\n",
            "Epoch 14/600\n",
            "1000/1000 [==============================] - 45s 45ms/step - loss: 1.8833 - accuracy: 0.4876 - val_loss: 1.7646 - val_accuracy: 0.5216\n",
            "Epoch 15/600\n",
            "1000/1000 [==============================] - 46s 46ms/step - loss: 1.8208 - accuracy: 0.5019 - val_loss: 1.7681 - val_accuracy: 0.5226\n",
            "Epoch 16/600\n",
            "1000/1000 [==============================] - 45s 45ms/step - loss: 1.7604 - accuracy: 0.5161 - val_loss: 1.7102 - val_accuracy: 0.5359\n",
            "Epoch 17/600\n",
            "1000/1000 [==============================] - 45s 45ms/step - loss: 1.7116 - accuracy: 0.5289 - val_loss: 1.7526 - val_accuracy: 0.5290\n",
            "Epoch 18/600\n",
            "1000/1000 [==============================] - 45s 45ms/step - loss: 1.6580 - accuracy: 0.5401 - val_loss: 1.6711 - val_accuracy: 0.5441\n",
            "Epoch 19/600\n",
            "1000/1000 [==============================] - 45s 45ms/step - loss: 1.6073 - accuracy: 0.5494 - val_loss: 1.6466 - val_accuracy: 0.5476\n",
            "Epoch 20/600\n",
            "1000/1000 [==============================] - 45s 45ms/step - loss: 1.5548 - accuracy: 0.5660 - val_loss: 1.5769 - val_accuracy: 0.5665\n",
            "Epoch 21/600\n",
            "1000/1000 [==============================] - 45s 45ms/step - loss: 1.5066 - accuracy: 0.5779 - val_loss: 1.6073 - val_accuracy: 0.5654\n",
            "Epoch 22/600\n",
            "1000/1000 [==============================] - 45s 45ms/step - loss: 1.4701 - accuracy: 0.5846 - val_loss: 1.6160 - val_accuracy: 0.5611\n",
            "Epoch 23/600\n",
            "1000/1000 [==============================] - 45s 45ms/step - loss: 1.4325 - accuracy: 0.5958 - val_loss: 1.5487 - val_accuracy: 0.5741\n",
            "Epoch 24/600\n",
            "1000/1000 [==============================] - 48s 48ms/step - loss: 1.3792 - accuracy: 0.6074 - val_loss: 1.5202 - val_accuracy: 0.5876\n",
            "Epoch 25/600\n",
            "1000/1000 [==============================] - 46s 46ms/step - loss: 1.3457 - accuracy: 0.6160 - val_loss: 1.4849 - val_accuracy: 0.5933\n",
            "Epoch 26/600\n",
            "1000/1000 [==============================] - 45s 45ms/step - loss: 1.3079 - accuracy: 0.6239 - val_loss: 1.5322 - val_accuracy: 0.5853\n",
            "Epoch 27/600\n",
            "1000/1000 [==============================] - 46s 46ms/step - loss: 1.2777 - accuracy: 0.6318 - val_loss: 1.4937 - val_accuracy: 0.5931\n",
            "Epoch 28/600\n",
            "1000/1000 [==============================] - 46s 46ms/step - loss: 1.2343 - accuracy: 0.6437 - val_loss: 1.4447 - val_accuracy: 0.6060\n",
            "Epoch 29/600\n",
            "1000/1000 [==============================] - 46s 46ms/step - loss: 1.2134 - accuracy: 0.6490 - val_loss: 1.4454 - val_accuracy: 0.6084\n",
            "Epoch 30/600\n",
            "1000/1000 [==============================] - 46s 46ms/step - loss: 1.1705 - accuracy: 0.6588 - val_loss: 1.4762 - val_accuracy: 0.6010\n",
            "Epoch 31/600\n",
            "1000/1000 [==============================] - 47s 47ms/step - loss: 1.1413 - accuracy: 0.6673 - val_loss: 1.4351 - val_accuracy: 0.6121\n",
            "Epoch 32/600\n",
            "1000/1000 [==============================] - 47s 47ms/step - loss: 1.1091 - accuracy: 0.6728 - val_loss: 1.4426 - val_accuracy: 0.6147\n",
            "Epoch 33/600\n",
            "1000/1000 [==============================] - 46s 46ms/step - loss: 1.0755 - accuracy: 0.6842 - val_loss: 1.4602 - val_accuracy: 0.6073\n",
            "Epoch 34/600\n",
            "1000/1000 [==============================] - 47s 47ms/step - loss: 1.0492 - accuracy: 0.6915 - val_loss: 1.4129 - val_accuracy: 0.6154\n",
            "Epoch 35/600\n",
            "1000/1000 [==============================] - 47s 47ms/step - loss: 1.0280 - accuracy: 0.6935 - val_loss: 1.3990 - val_accuracy: 0.6210\n",
            "Epoch 36/600\n",
            "1000/1000 [==============================] - 46s 46ms/step - loss: 0.9980 - accuracy: 0.7030 - val_loss: 1.4478 - val_accuracy: 0.6151\n",
            "Epoch 37/600\n",
            "1000/1000 [==============================] - 46s 46ms/step - loss: 0.9777 - accuracy: 0.7081 - val_loss: 1.4781 - val_accuracy: 0.6095\n",
            "Epoch 38/600\n",
            "1000/1000 [==============================] - 46s 46ms/step - loss: 0.9422 - accuracy: 0.7174 - val_loss: 1.4792 - val_accuracy: 0.6136\n",
            "Epoch 39/600\n",
            "1000/1000 [==============================] - 46s 46ms/step - loss: 0.9249 - accuracy: 0.7218 - val_loss: 1.4399 - val_accuracy: 0.6206\n",
            "Epoch 40/600\n",
            "1000/1000 [==============================] - 46s 46ms/step - loss: 0.9058 - accuracy: 0.7273 - val_loss: 1.4417 - val_accuracy: 0.6226\n",
            "Epoch 41/600\n",
            "1000/1000 [==============================] - 46s 46ms/step - loss: 0.8849 - accuracy: 0.7342 - val_loss: 1.4656 - val_accuracy: 0.6234\n",
            "Epoch 42/600\n",
            "1000/1000 [==============================] - 47s 47ms/step - loss: 0.8562 - accuracy: 0.7408 - val_loss: 1.4545 - val_accuracy: 0.6244\n",
            "Epoch 43/600\n",
            " 999/1000 [============================>.] - ETA: 0s - loss: 0.8350 - accuracy: 0.7471Restoring model weights from the end of the best epoch: 35.\n",
            "1000/1000 [==============================] - 47s 47ms/step - loss: 0.8348 - accuracy: 0.7471 - val_loss: 1.4623 - val_accuracy: 0.6229\n",
            "Epoch 43: early stopping\n"
          ]
        }
      ]
    },
    {
      "cell_type": "code",
      "source": [
        "score = model.evaluate(X_test, y_test, verbose=0)\n",
        "print(f'Test loss: {score[0]} / Test accuracy: {score[1]}')"
      ],
      "metadata": {
        "id": "qLyKZzT8mZLb",
        "colab": {
          "base_uri": "https://localhost:8080/"
        },
        "outputId": "3e07177e-2729-42eb-f736-864de2b33c16"
      },
      "execution_count": 23,
      "outputs": [
        {
          "output_type": "stream",
          "name": "stdout",
          "text": [
            "Test loss: 1.3989737033843994 / Test accuracy: 0.6209999918937683\n"
          ]
        }
      ]
    },
    {
      "cell_type": "code",
      "source": [
        "# Visualizing the  history\n",
        "# Plot Loss History\n",
        "plt.plot(history.history['val_loss'])\n",
        "plt.title('Validation Loss ')\n",
        "plt.ylabel('Loss')\n",
        "plt.xlabel('No. of epoch')\n",
        "plt.show()\n",
        "\n",
        "# Plot Accuraccy History\n",
        "plt.plot(history.history['val_accuracy'])\n",
        "plt.title('Validation accuracy ')\n",
        "plt.ylabel('Accuracy value (%)')\n",
        "plt.xlabel('No of epoch')\n",
        "plt.show()"
      ],
      "metadata": {
        "id": "SzcJNjbRmbIL",
        "colab": {
          "base_uri": "https://localhost:8080/",
          "height": 927
        },
        "outputId": "57a69452-e518-44ac-9665-62844ba74e42"
      },
      "execution_count": 24,
      "outputs": [
        {
          "output_type": "display_data",
          "data": {
            "text/plain": [
              "<Figure size 640x480 with 1 Axes>"
            ],
            "image/png": "[encoded data removed]"
          },
          "metadata": {}
        },
        {
          "output_type": "display_data",
          "data": {
            "text/plain": [
              "<Figure size 640x480 with 1 Axes>"
            ],
            "image/png": "[encoded data removed]"
          },
          "metadata": {}
        }
      ]
    }
  ]
}